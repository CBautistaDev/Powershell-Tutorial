{
 "cells": [
  {
   "cell_type": "markdown",
   "metadata": {},
   "source": [
    "## Hashtable"
   ]
  },
  {
   "cell_type": "code",
   "execution_count": null,
   "metadata": {
    "dotnet_interactive": {
     "language": "pwsh"
    }
   },
   "outputs": [],
   "source": []
  },
  {
   "cell_type": "code",
   "execution_count": null,
   "metadata": {
    "dotnet_interactive": {
     "language": "pwsh"
    }
   },
   "outputs": [
    {
     "name": "stdout",
     "output_type": "stream",
     "text": [
      "bob\r\n",
      "lizzy\r\n"
     ]
    }
   ],
   "source": [
    "$family = @{\n",
    "    dad=\"bob\"\n",
    "    mom=\"susan\"\n",
    "    daughter=\"lizzy\"\n",
    "}\n",
    "$family.dad\n",
    "$family.daughter\n"
   ]
  },
  {
   "cell_type": "code",
   "execution_count": null,
   "metadata": {
    "dotnet_interactive": {
     "language": "pwsh"
    }
   },
   "outputs": [
    {
     "name": "stdout",
     "output_type": "stream",
     "text": [
      "Key: dad\r\n",
      "Key: daughter\r\n",
      "Key: mom\r\n"
     ]
    }
   ],
   "source": [
    "foreach($key in $family.Keys){\n",
    "    Write-Host \"Key: $Key\"\n",
    "}"
   ]
  },
  {
   "cell_type": "code",
   "execution_count": null,
   "metadata": {
    "dotnet_interactive": {
     "language": "pwsh"
    }
   },
   "outputs": [
    {
     "name": "stdout",
     "output_type": "stream",
     "text": [
      "bob\r\n",
      "lizzy\r\n",
      "susan\r\n"
     ]
    }
   ],
   "source": [
    "foreach ($key in $family.Keys){\n",
    "    \n",
    "    $value = $family.$key\n",
    "    Write-Host $value\n",
    "}"
   ]
  },
  {
   "cell_type": "code",
   "execution_count": null,
   "metadata": {
    "dotnet_interactive": {
     "language": "pwsh"
    }
   },
   "outputs": [
    {
     "data": {
      "text/plain": []
     },
     "metadata": {},
     "output_type": "display_data"
    }
   ],
   "source": [
    "$response = Invoke-WebRequest -Uri 'https://jsonplaceholder.typicode.com/users' -UseBasicParsing"
   ]
  },
  {
   "cell_type": "code",
   "execution_count": null,
   "metadata": {
    "dotnet_interactive": {
     "language": "pwsh"
    }
   },
   "outputs": [
    {
     "name": "stdout",
     "output_type": "stream",
     "text": [
      "\r\n",
      "StatusCode        : 200\r\n",
      "StatusDescription : OK\r\n",
      "Content           : [\r\n",
      "                      {\r\n",
      "                        \"id\": 1,\r\n",
      "                        \"name\": \"Leanne Graham\",\r\n",
      "                        \"username\": \"Bret\",\r\n",
      "                        \"email\": \"Sincere@april.biz\",\r\n",
      "                        \"address\": {\r\n",
      "                          \"street\": \"Kulas Light\",\r\n",
      "                          \"suite\": \"Apt. 556\",\r\n",
      "                          \"city\": \"Gwen…\r\n",
      "RawContent        : HTTP/1.1 200 OK\r\n",
      "                    Date: Mon, 01 Nov 2021 02:30:33 GMT\r\n",
      "                    Transfer-Encoding: chunked\r\n",
      "                    Connection: keep-alive\r\n",
      "                    X-Powered-By: Express\r\n",
      "                    x-ratelimit-limit: 1000\r\n",
      "                    x-ratelimit-remaining: 999\r\n",
      "                    x-ratelimit-reset:…\r\n",
      "Headers           : {[Date, System.String[]], [Transfer-Encoding, System.String[]], [Connection, \r\n",
      "                    System.String[]], [X-Powered-By, System.String[]]…}\r\n",
      "Images            : {}\r\n",
      "InputFields       : {}\r\n",
      "Links             : {}\r\n",
      "RawContentLength  : 5645\r\n",
      "RelationLink      : {}\r\n",
      "\r\n",
      "\r\n"
     ]
    }
   ],
   "source": [
    "$response"
   ]
  },
  {
   "cell_type": "code",
   "execution_count": null,
   "metadata": {
    "dotnet_interactive": {
     "language": "pwsh"
    }
   },
   "outputs": [],
   "source": [
    "$users = $response "
   ]
  }
 ],
 "metadata": {
  "kernelspec": {
   "display_name": ".NET (PowerShell)",
   "language": "PowerShell",
   "name": ".net-pwsh"
  },
  "language_info": {
   "name": "PowerShell"
  }
 },
 "nbformat": 4,
 "nbformat_minor": 2
}
